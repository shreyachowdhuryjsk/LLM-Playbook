{
  "nbformat": 4,
  "nbformat_minor": 0,
  "metadata": {
    "colab": {
      "provenance": [],
      "toc_visible": true,
      "authorship_tag": "ABX9TyN1sMvkjboBP428i3kjAEtv",
      "include_colab_link": true
    },
    "kernelspec": {
      "name": "python3",
      "display_name": "Python 3"
    },
    "language_info": {
      "name": "python"
    }
  },
  "cells": [
    {
      "cell_type": "markdown",
      "metadata": {
        "id": "view-in-github",
        "colab_type": "text"
      },
      "source": [
        "<a href=\"https://colab.research.google.com/github/shreyachowdhuryjsk/LLM-Playbook/blob/main/Copy_of_Qwen_Context_Promp.ipynb\" target=\"_parent\"><img src=\"https://colab.research.google.com/assets/colab-badge.svg\" alt=\"Open In Colab\"/></a>"
      ]
    },
    {
      "cell_type": "code",
      "source": [
        "pip install nbstripout"
      ],
      "metadata": {
        "colab": {
          "base_uri": "https://localhost:8080/"
        },
        "id": "DYj9L_WsrSdI",
        "outputId": "e99dd4db-e917-4ac4-83af-77e005c5041f"
      },
      "execution_count": null,
      "outputs": [
        {
          "output_type": "stream",
          "name": "stdout",
          "text": [
            "Collecting nbstripout\n",
            "  Downloading nbstripout-0.8.1-py2.py3-none-any.whl.metadata (19 kB)\n",
            "Requirement already satisfied: nbformat in /usr/local/lib/python3.11/dist-packages (from nbstripout) (5.10.4)\n",
            "Requirement already satisfied: fastjsonschema>=2.15 in /usr/local/lib/python3.11/dist-packages (from nbformat->nbstripout) (2.21.1)\n",
            "Requirement already satisfied: jsonschema>=2.6 in /usr/local/lib/python3.11/dist-packages (from nbformat->nbstripout) (4.25.0)\n",
            "Requirement already satisfied: jupyter-core!=5.0.*,>=4.12 in /usr/local/lib/python3.11/dist-packages (from nbformat->nbstripout) (5.8.1)\n",
            "Requirement already satisfied: traitlets>=5.1 in /usr/local/lib/python3.11/dist-packages (from nbformat->nbstripout) (5.7.1)\n",
            "Requirement already satisfied: attrs>=22.2.0 in /usr/local/lib/python3.11/dist-packages (from jsonschema>=2.6->nbformat->nbstripout) (25.3.0)\n",
            "Requirement already satisfied: jsonschema-specifications>=2023.03.6 in /usr/local/lib/python3.11/dist-packages (from jsonschema>=2.6->nbformat->nbstripout) (2025.4.1)\n",
            "Requirement already satisfied: referencing>=0.28.4 in /usr/local/lib/python3.11/dist-packages (from jsonschema>=2.6->nbformat->nbstripout) (0.36.2)\n",
            "Requirement already satisfied: rpds-py>=0.7.1 in /usr/local/lib/python3.11/dist-packages (from jsonschema>=2.6->nbformat->nbstripout) (0.26.0)\n",
            "Requirement already satisfied: platformdirs>=2.5 in /usr/local/lib/python3.11/dist-packages (from jupyter-core!=5.0.*,>=4.12->nbformat->nbstripout) (4.3.8)\n",
            "Requirement already satisfied: typing-extensions>=4.4.0 in /usr/local/lib/python3.11/dist-packages (from referencing>=0.28.4->jsonschema>=2.6->nbformat->nbstripout) (4.14.1)\n",
            "Downloading nbstripout-0.8.1-py2.py3-none-any.whl (16 kB)\n",
            "Installing collected packages: nbstripout\n",
            "Successfully installed nbstripout-0.8.1\n"
          ]
        }
      ]
    },
    {
      "cell_type": "code",
      "execution_count": null,
      "metadata": {
        "id": "0GG9i3h6gk2W"
      },
      "outputs": [],
      "source": [
        "from transformers import pipeline"
      ]
    },
    {
      "cell_type": "code",
      "source": [
        "pipe=pipeline(\"text-generation\",model=\"Qwen/Qwen2.5-1.5B-Instruct\")"
      ],
      "metadata": {
        "colab": {
          "base_uri": "https://localhost:8080/"
        },
        "id": "6WIyfPC4jom1",
        "outputId": "a5038ade-341b-4c09-e9ef-f5a2d6a22008"
      },
      "execution_count": null,
      "outputs": [
        {
          "output_type": "stream",
          "name": "stderr",
          "text": [
            "Device set to use cpu\n"
          ]
        }
      ]
    },
    {
      "cell_type": "code",
      "source": [
        "question = \"What is an ACE?\""
      ],
      "metadata": {
        "id": "6gkzclW-j7xf"
      },
      "execution_count": null,
      "outputs": []
    },
    {
      "cell_type": "code",
      "source": [
        "prompt = \"Answer the question : \\n\" + \"Question : \" +question + \"\\nAnswer : \""
      ],
      "metadata": {
        "id": "akKjIlOrkEYz"
      },
      "execution_count": null,
      "outputs": []
    },
    {
      "cell_type": "code",
      "source": [
        "print(prompt)"
      ],
      "metadata": {
        "colab": {
          "base_uri": "https://localhost:8080/"
        },
        "id": "NphhxPZfkXd_",
        "outputId": "44cfd238-e352-4b77-b66b-b9119e1ac762"
      },
      "execution_count": null,
      "outputs": [
        {
          "output_type": "stream",
          "name": "stdout",
          "text": [
            "Answer the question : \n",
            "Question : What is an ACE?\n",
            "Answer : \n"
          ]
        }
      ]
    },
    {
      "cell_type": "code",
      "source": [
        "response = pipe(prompt, max_new_tokens = 50)"
      ],
      "metadata": {
        "id": "24H2lHGQkXav"
      },
      "execution_count": null,
      "outputs": []
    },
    {
      "cell_type": "code",
      "source": [
        "print(response)"
      ],
      "metadata": {
        "colab": {
          "base_uri": "https://localhost:8080/"
        },
        "id": "2y-TwcYDkXW7",
        "outputId": "c2c4ef9a-faed-4110-a350-08542a476d4f"
      },
      "execution_count": null,
      "outputs": [
        {
          "output_type": "stream",
          "name": "stdout",
          "text": [
            "[{'generated_text': 'Answer the question : \\nQuestion : What is an ACE?\\nAnswer :  An ACE, also known as an \"African American English\" or \"Black English Vernacular,\" refers to a dialect of the English language primarily spoken by African Americans. It encompasses various linguistic features such as contractions, ellipses, and idi'}]\n"
          ]
        }
      ]
    },
    {
      "cell_type": "code",
      "source": [
        "context = \"\"\"an ace is a serve that lands in the correct service box and is untouched by the opponent, immediately winning the point for the server. It is one of the most effective and impressive ways to score in tennis, as it leaves the receiver with no opportunity to return the ball. Aces are often the result of powerful, accurate serves that catch the opponent off guard or out of position. They are especially common among professional players with strong serving skills. Players like Novak Djokovic, Serena Williams, and Roger Federer are known for using aces strategically to dominate their service games and maintain pressure on their opponents.\"\"\""
      ],
      "metadata": {
        "id": "yAlFdTrJkXOX"
      },
      "execution_count": null,
      "outputs": []
    },
    {
      "cell_type": "code",
      "source": [
        "prompt = \"Answer the question : \\n\" +\"Context : \"+ context +\"\\nQuestion : \" + question + \"\\nAnswer : \""
      ],
      "metadata": {
        "id": "CkSXumD4lWFs"
      },
      "execution_count": null,
      "outputs": []
    },
    {
      "cell_type": "code",
      "source": [
        "print(prompt)"
      ],
      "metadata": {
        "colab": {
          "base_uri": "https://localhost:8080/"
        },
        "id": "PgfVjCoylt5D",
        "outputId": "565ee7b2-8ecc-4f6e-8e32-bde3cd6ef7b9"
      },
      "execution_count": null,
      "outputs": [
        {
          "output_type": "stream",
          "name": "stdout",
          "text": [
            "Answer the question : \n",
            "Context : an ace is a serve that lands in the correct service box and is untouched by the opponent, immediately winning the point for the server. It is one of the most effective and impressive ways to score in tennis, as it leaves the receiver with no opportunity to return the ball. Aces are often the result of powerful, accurate serves that catch the opponent off guard or out of position. They are especially common among professional players with strong serving skills. Players like Novak Djokovic, Serena Williams, and Roger Federer are known for using aces strategically to dominate their service games and maintain pressure on their opponents.\n",
            "Question : What is an ACE?\n",
            "Answer : \n"
          ]
        }
      ]
    },
    {
      "cell_type": "code",
      "source": [
        "response  = pipe(prompt, max_new_tokens = 100)"
      ],
      "metadata": {
        "id": "sR9F1M7ely3R"
      },
      "execution_count": null,
      "outputs": []
    },
    {
      "cell_type": "code",
      "source": [
        "print(response)"
      ],
      "metadata": {
        "colab": {
          "base_uri": "https://localhost:8080/"
        },
        "id": "C9EJHcM8mOvJ",
        "outputId": "88dd4785-8537-4f78-f982-347ff9a2aaa5"
      },
      "execution_count": null,
      "outputs": [
        {
          "output_type": "stream",
          "name": "stdout",
          "text": [
            "[{'generated_text': 'Answer the question : \\nContext : an ace is a serve that lands in the correct service box and is untouched by the opponent, immediately winning the point for the server. It is one of the most effective and impressive ways to score in tennis, as it leaves the receiver with no opportunity to return the ball. Aces are often the result of powerful, accurate serves that catch the opponent off guard or out of position. They are especially common among professional players with strong serving skills. Players like Novak Djokovic, Serena Williams, and Roger Federer are known for using aces strategically to dominate their service games and maintain pressure on their opponents.\\nQuestion : What is an ACE?\\nAnswer :  An ace is a serve that lands in the correct service box and is untouched by the opponent, immediately winning the point for the server. To answer this question, I will first identify the key information provided about what constitutes an ace.\\n\\n1. The term \"ace\" refers to a specific type of serve in tennis.\\n2. It requires landing in the correct service box.\\n3. It must be untouched by the opponent.\\n4. It wins the point for the server.\\n5. It can occur when'}]\n"
          ]
        }
      ]
    },
    {
      "cell_type": "code",
      "source": [],
      "metadata": {
        "id": "sOR__MgemQDI"
      },
      "execution_count": null,
      "outputs": []
    }
  ]
}